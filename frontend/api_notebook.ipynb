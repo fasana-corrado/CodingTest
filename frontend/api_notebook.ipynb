{
 "cells": [
  {
   "attachments": {},
   "cell_type": "markdown",
   "metadata": {},
   "source": [
    "This notebook has been used just to get a fast feedback concerning the functionalities. Thus, in this notebook, no checks are performed for data format."
   ]
  },
  {
   "cell_type": "code",
   "execution_count": 1,
   "metadata": {},
   "outputs": [],
   "source": [
    "from dotenv import load_dotenv\n",
    "import sqlalchemy\n",
    "import os\n",
    "import sys\n",
    "sys.path.append('../')\n",
    "from backend import api_functionalities\n",
    "from IPython.display import display\n",
    "import pandas as pd"
   ]
  },
  {
   "attachments": {},
   "cell_type": "markdown",
   "metadata": {},
   "source": [
    "Creation of a new Person"
   ]
  },
  {
   "cell_type": "code",
   "execution_count": 3,
   "metadata": {},
   "outputs": [],
   "source": [
    "load_dotenv() #Allows to load the variables present in the .env file\n",
    "db_connection_data = {\"host\":os.environ.get('db_hostname'),\n",
    "                        \"db_name\":os.environ.get('db_name'),\n",
    "                        \"user\":os.environ.get('db_user'),\n",
    "                        \"psw\":os.environ.get('db_psw')}\n",
    "engine = sqlalchemy.create_engine(f'mysql+mysqldb://{db_connection_data[\"user\"]}:{db_connection_data[\"psw\"]}@{db_connection_data[\"host\"]}/{db_connection_data[\"db_name\"]}') # Connect to database"
   ]
  },
  {
   "cell_type": "code",
   "execution_count": 7,
   "metadata": {},
   "outputs": [
    {
     "name": "stdout",
     "output_type": "stream",
     "text": [
      "Invalid parameter 'country'. This parameter cannot be empty and should be a string of at most 2 characters long.\n"
     ]
    }
   ],
   "source": [
    "first_name = \"Corrado\"\n",
    "last_name = \"Fasana\"\n",
    "gender = \"Male\"\n",
    "email = \"corrado.fasana@prova.it\"\n",
    "ip_address = \"192.168.2.1\"\n",
    "country = \"IT\"\n",
    "\n",
    "try:\n",
    "    api_functionalities.create_new_person(engine, first_name, last_name, email, gender, ip_address, country)\n",
    "    print(\"Person created successfully\")\n",
    "except Exception as e:\n",
    "    print(e)"
   ]
  },
  {
   "attachments": {},
   "cell_type": "markdown",
   "metadata": {},
   "source": [
    "Obtain list of users by country"
   ]
  },
  {
   "cell_type": "code",
   "execution_count": 5,
   "metadata": {},
   "outputs": [
    {
     "data": {
      "text/html": [
       "<div>\n",
       "<style scoped>\n",
       "    .dataframe tbody tr th:only-of-type {\n",
       "        vertical-align: middle;\n",
       "    }\n",
       "\n",
       "    .dataframe tbody tr th {\n",
       "        vertical-align: top;\n",
       "    }\n",
       "\n",
       "    .dataframe thead th {\n",
       "        text-align: right;\n",
       "    }\n",
       "</style>\n",
       "<table border=\"1\" class=\"dataframe\">\n",
       "  <thead>\n",
       "    <tr style=\"text-align: right;\">\n",
       "      <th></th>\n",
       "      <th>id</th>\n",
       "      <th>first_name</th>\n",
       "      <th>last_name</th>\n",
       "      <th>email</th>\n",
       "      <th>gender</th>\n",
       "      <th>ip_address</th>\n",
       "    </tr>\n",
       "  </thead>\n",
       "  <tbody>\n",
       "    <tr>\n",
       "      <th>0</th>\n",
       "      <td>476</td>\n",
       "      <td>Jethro</td>\n",
       "      <td>Fantham</td>\n",
       "      <td>jfanthamd7@google.com.au</td>\n",
       "      <td>Male</td>\n",
       "      <td>78.68.144.142</td>\n",
       "    </tr>\n",
       "    <tr>\n",
       "      <th>1</th>\n",
       "      <td>1462</td>\n",
       "      <td>Barney</td>\n",
       "      <td>Surridge</td>\n",
       "      <td>bsurridgect@e-recht24.de</td>\n",
       "      <td>Polygender</td>\n",
       "      <td>156.164.194.166</td>\n",
       "    </tr>\n",
       "    <tr>\n",
       "      <th>2</th>\n",
       "      <td>3001</td>\n",
       "      <td>Corrado</td>\n",
       "      <td>Fasana</td>\n",
       "      <td>corrado.fasana@prova.it</td>\n",
       "      <td>Male</td>\n",
       "      <td>192.168.2.1</td>\n",
       "    </tr>\n",
       "    <tr>\n",
       "      <th>3</th>\n",
       "      <td>3002</td>\n",
       "      <td>Corrado</td>\n",
       "      <td>Fasana</td>\n",
       "      <td>corrado.fasana@prova.it</td>\n",
       "      <td>Malea</td>\n",
       "      <td>127.0.0.1</td>\n",
       "    </tr>\n",
       "  </tbody>\n",
       "</table>\n",
       "</div>"
      ],
      "text/plain": [
       "     id first_name last_name                     email      gender  \\\n",
       "0   476     Jethro   Fantham  jfanthamd7@google.com.au        Male   \n",
       "1  1462     Barney  Surridge  bsurridgect@e-recht24.de  Polygender   \n",
       "2  3001    Corrado    Fasana   corrado.fasana@prova.it        Male   \n",
       "3  3002    Corrado    Fasana   corrado.fasana@prova.it       Malea   \n",
       "\n",
       "        ip_address  \n",
       "0    78.68.144.142  \n",
       "1  156.164.194.166  \n",
       "2      192.168.2.1  \n",
       "3        127.0.0.1  "
      ]
     },
     "metadata": {},
     "output_type": "display_data"
    }
   ],
   "source": [
    "country = \"IT\"\n",
    "\n",
    "try:\n",
    "    df = api_functionalities.get_people_by_country(engine, country)\n",
    "    display(df)\n",
    "except Exception as e:\n",
    "    print(e)"
   ]
  },
  {
   "attachments": {},
   "cell_type": "markdown",
   "metadata": {},
   "source": [
    "Obtain count of users by country"
   ]
  },
  {
   "cell_type": "code",
   "execution_count": 9,
   "metadata": {},
   "outputs": [
    {
     "name": "stdout",
     "output_type": "stream",
     "text": [
      "The number of users for country IR is 13\n"
     ]
    }
   ],
   "source": [
    "country = \"IR\"\n",
    "\n",
    "try:\n",
    "    count = api_functionalities.get_people_count_by_country(engine, country)\n",
    "    print(f\"The number of users for country {country} is {count}\")\n",
    "except Exception as e:\n",
    "    print(e)"
   ]
  },
  {
   "attachments": {},
   "cell_type": "markdown",
   "metadata": {},
   "source": [
    "Obtain people distribution by gender"
   ]
  },
  {
   "cell_type": "code",
   "execution_count": 3,
   "metadata": {},
   "outputs": [
    {
     "data": {
      "text/html": [
       "<div>\n",
       "<style scoped>\n",
       "    .dataframe tbody tr th:only-of-type {\n",
       "        vertical-align: middle;\n",
       "    }\n",
       "\n",
       "    .dataframe tbody tr th {\n",
       "        vertical-align: top;\n",
       "    }\n",
       "\n",
       "    .dataframe thead th {\n",
       "        text-align: right;\n",
       "    }\n",
       "</style>\n",
       "<table border=\"1\" class=\"dataframe\">\n",
       "  <thead>\n",
       "    <tr style=\"text-align: right;\">\n",
       "      <th></th>\n",
       "      <th>Gender</th>\n",
       "      <th>Count</th>\n",
       "      <th>Distribution (%)</th>\n",
       "    </tr>\n",
       "  </thead>\n",
       "  <tbody>\n",
       "    <tr>\n",
       "      <th>0</th>\n",
       "      <td>Male</td>\n",
       "      <td>1320</td>\n",
       "      <td>43.970686</td>\n",
       "    </tr>\n",
       "    <tr>\n",
       "      <th>1</th>\n",
       "      <td>Female</td>\n",
       "      <td>1403</td>\n",
       "      <td>46.735510</td>\n",
       "    </tr>\n",
       "    <tr>\n",
       "      <th>2</th>\n",
       "      <td>Polygender</td>\n",
       "      <td>47</td>\n",
       "      <td>1.565623</td>\n",
       "    </tr>\n",
       "    <tr>\n",
       "      <th>3</th>\n",
       "      <td>Genderfluid</td>\n",
       "      <td>45</td>\n",
       "      <td>1.499001</td>\n",
       "    </tr>\n",
       "    <tr>\n",
       "      <th>4</th>\n",
       "      <td>Agender</td>\n",
       "      <td>56</td>\n",
       "      <td>1.865423</td>\n",
       "    </tr>\n",
       "    <tr>\n",
       "      <th>5</th>\n",
       "      <td>Genderqueer</td>\n",
       "      <td>42</td>\n",
       "      <td>1.399067</td>\n",
       "    </tr>\n",
       "    <tr>\n",
       "      <th>6</th>\n",
       "      <td>Bigender</td>\n",
       "      <td>47</td>\n",
       "      <td>1.565623</td>\n",
       "    </tr>\n",
       "    <tr>\n",
       "      <th>7</th>\n",
       "      <td>Non-binary</td>\n",
       "      <td>41</td>\n",
       "      <td>1.365756</td>\n",
       "    </tr>\n",
       "    <tr>\n",
       "      <th>8</th>\n",
       "      <td>Malea</td>\n",
       "      <td>1</td>\n",
       "      <td>0.033311</td>\n",
       "    </tr>\n",
       "  </tbody>\n",
       "</table>\n",
       "</div>"
      ],
      "text/plain": [
       "        Gender  Count  Distribution (%)\n",
       "0         Male   1320         43.970686\n",
       "1       Female   1403         46.735510\n",
       "2   Polygender     47          1.565623\n",
       "3  Genderfluid     45          1.499001\n",
       "4      Agender     56          1.865423\n",
       "5  Genderqueer     42          1.399067\n",
       "6     Bigender     47          1.565623\n",
       "7   Non-binary     41          1.365756\n",
       "8        Malea      1          0.033311"
      ]
     },
     "metadata": {},
     "output_type": "display_data"
    }
   ],
   "source": [
    "try:\n",
    "    df = api_functionalities.get_people_gender_distribution(engine)\n",
    "    pd.set_option(\"display.precision\", 2)\n",
    "    display(df)\n",
    "except Exception as e:\n",
    "    print(e)"
   ]
  },
  {
   "attachments": {},
   "cell_type": "markdown",
   "metadata": {},
   "source": [
    "Obtain ip address distribution over classes"
   ]
  },
  {
   "cell_type": "code",
   "execution_count": 3,
   "metadata": {},
   "outputs": [
    {
     "data": {
      "text/html": [
       "<div>\n",
       "<style scoped>\n",
       "    .dataframe tbody tr th:only-of-type {\n",
       "        vertical-align: middle;\n",
       "    }\n",
       "\n",
       "    .dataframe tbody tr th {\n",
       "        vertical-align: top;\n",
       "    }\n",
       "\n",
       "    .dataframe thead th {\n",
       "        text-align: right;\n",
       "    }\n",
       "</style>\n",
       "<table border=\"1\" class=\"dataframe\">\n",
       "  <thead>\n",
       "    <tr style=\"text-align: right;\">\n",
       "      <th></th>\n",
       "      <th>Count</th>\n",
       "      <th>Distribution (%)</th>\n",
       "    </tr>\n",
       "  </thead>\n",
       "  <tbody>\n",
       "    <tr>\n",
       "      <th>A</th>\n",
       "      <td>1477</td>\n",
       "      <td>49.20</td>\n",
       "    </tr>\n",
       "    <tr>\n",
       "      <th>B</th>\n",
       "      <td>747</td>\n",
       "      <td>24.88</td>\n",
       "    </tr>\n",
       "    <tr>\n",
       "      <th>C</th>\n",
       "      <td>378</td>\n",
       "      <td>12.59</td>\n",
       "    </tr>\n",
       "    <tr>\n",
       "      <th>D</th>\n",
       "      <td>186</td>\n",
       "      <td>6.20</td>\n",
       "    </tr>\n",
       "    <tr>\n",
       "      <th>E</th>\n",
       "      <td>214</td>\n",
       "      <td>7.13</td>\n",
       "    </tr>\n",
       "  </tbody>\n",
       "</table>\n",
       "</div>"
      ],
      "text/plain": [
       "   Count  Distribution (%)\n",
       "A   1477             49.20\n",
       "B    747             24.88\n",
       "C    378             12.59\n",
       "D    186              6.20\n",
       "E    214              7.13"
      ]
     },
     "metadata": {},
     "output_type": "display_data"
    }
   ],
   "source": [
    "try:\n",
    "    df = api_functionalities.get_ip_address_distribution_by_class(engine)\n",
    "    pd.set_option(\"display.precision\", 2)\n",
    "    display(df)\n",
    "except Exception as e:\n",
    "    print(e)"
   ]
  },
  {
   "attachments": {},
   "cell_type": "markdown",
   "metadata": {},
   "source": [
    "Obtain most common email domain"
   ]
  },
  {
   "cell_type": "code",
   "execution_count": 3,
   "metadata": {},
   "outputs": [
    {
     "data": {
      "text/plain": [
       "(['altervista.org'], 15)"
      ]
     },
     "metadata": {},
     "output_type": "display_data"
    }
   ],
   "source": [
    "try:\n",
    "    domains, count = api_functionalities.get_most_common_domain(engine)\n",
    "    print(f\"The most commons domains are {domains} which occurr {count} times each.\")\n",
    "except Exception as e:\n",
    "    print(e)"
   ]
  },
  {
   "attachments": {},
   "cell_type": "markdown",
   "metadata": {},
   "source": [
    "Obtain correlation between country and domain"
   ]
  },
  {
   "cell_type": "code",
   "execution_count": 4,
   "metadata": {},
   "outputs": [
    {
     "name": "stdout",
     "output_type": "stream",
     "text": [
      "The correlation between Country and Domain is 0.055\n"
     ]
    }
   ],
   "source": [
    "try:\n",
    "    correlation = api_functionalities.get_country_domain_correlation(engine)\n",
    "    print(\"The correlation between Country and Domain is {:.3f}\".format(correlation))\n",
    "except Exception as e:\n",
    "    print(e)"
   ]
  },
  {
   "attachments": {},
   "cell_type": "markdown",
   "metadata": {},
   "source": [
    "Obtain correlation between domain and gender"
   ]
  },
  {
   "cell_type": "code",
   "execution_count": 3,
   "metadata": {},
   "outputs": [
    {
     "name": "stdout",
     "output_type": "stream",
     "text": [
      "The correlation between Gender and Domain is 0.206\n"
     ]
    }
   ],
   "source": [
    "try:\n",
    "    correlation = api_functionalities.get_gender_domain_correlation(engine)\n",
    "    print(\"The correlation between Gender and Domain is {:.3f}\".format(correlation))\n",
    "except Exception as e:\n",
    "    print(e)"
   ]
  },
  {
   "attachments": {},
   "cell_type": "markdown",
   "metadata": {},
   "source": [
    "Obtain email patters"
   ]
  },
  {
   "cell_type": "code",
   "execution_count": 3,
   "metadata": {},
   "outputs": [
    {
     "data": {
      "text/plain": [
       "flast         2945\n",
       "first.last       2\n",
       "firstlast        0\n",
       "lastfirst        0\n",
       "last.first       0\n",
       "f.last           0\n",
       "firstl           0\n",
       "first.l          0\n",
       "first            0\n",
       "last             0\n",
       "dtype: int64"
      ]
     },
     "metadata": {},
     "output_type": "display_data"
    }
   ],
   "source": [
    "try:\n",
    "    df = api_functionalities.get_common_email_patterns(engine)\n",
    "    display(df)\n",
    "except Exception as e:\n",
    "    print(e)"
   ]
  },
  {
   "attachments": {},
   "cell_type": "markdown",
   "metadata": {},
   "source": [
    "Other analysis: Gender-Country correlation"
   ]
  },
  {
   "cell_type": "code",
   "execution_count": 3,
   "metadata": {},
   "outputs": [
    {
     "name": "stdout",
     "output_type": "stream",
     "text": [
      "The correlation between Gender and Country is 0.193\n"
     ]
    }
   ],
   "source": [
    "try:\n",
    "    correlation = api_functionalities.get_gender_country_correlation(engine)\n",
    "    print(\"The correlation between Gender and Country is {:.3f}\".format(correlation))\n",
    "except Exception as e:\n",
    "    print(e)"
   ]
  },
  {
   "attachments": {},
   "cell_type": "markdown",
   "metadata": {},
   "source": [
    "Other analysis: Gender distribution over countries"
   ]
  },
  {
   "cell_type": "code",
   "execution_count": 3,
   "metadata": {},
   "outputs": [
    {
     "data": {
      "text/html": [
       "<div>\n",
       "<style scoped>\n",
       "    .dataframe tbody tr th:only-of-type {\n",
       "        vertical-align: middle;\n",
       "    }\n",
       "\n",
       "    .dataframe tbody tr th {\n",
       "        vertical-align: top;\n",
       "    }\n",
       "\n",
       "    .dataframe thead th {\n",
       "        text-align: right;\n",
       "    }\n",
       "</style>\n",
       "<table border=\"1\" class=\"dataframe\">\n",
       "  <thead>\n",
       "    <tr style=\"text-align: right;\">\n",
       "      <th></th>\n",
       "      <th>Country</th>\n",
       "      <th>Gender</th>\n",
       "      <th>Count</th>\n",
       "      <th>Distribution (%)</th>\n",
       "    </tr>\n",
       "  </thead>\n",
       "  <tbody>\n",
       "    <tr>\n",
       "      <th>379</th>\n",
       "      <td>AD</td>\n",
       "      <td>Male</td>\n",
       "      <td>1</td>\n",
       "      <td>100.00</td>\n",
       "    </tr>\n",
       "    <tr>\n",
       "      <th>148</th>\n",
       "      <td>AE</td>\n",
       "      <td>Male</td>\n",
       "      <td>1</td>\n",
       "      <td>50.00</td>\n",
       "    </tr>\n",
       "    <tr>\n",
       "      <th>429</th>\n",
       "      <td>AE</td>\n",
       "      <td>Bigender</td>\n",
       "      <td>1</td>\n",
       "      <td>50.00</td>\n",
       "    </tr>\n",
       "    <tr>\n",
       "      <th>38</th>\n",
       "      <td>AF</td>\n",
       "      <td>Female</td>\n",
       "      <td>7</td>\n",
       "      <td>50.00</td>\n",
       "    </tr>\n",
       "    <tr>\n",
       "      <th>105</th>\n",
       "      <td>AF</td>\n",
       "      <td>Male</td>\n",
       "      <td>7</td>\n",
       "      <td>50.00</td>\n",
       "    </tr>\n",
       "    <tr>\n",
       "      <th>...</th>\n",
       "      <td>...</td>\n",
       "      <td>...</td>\n",
       "      <td>...</td>\n",
       "      <td>...</td>\n",
       "    </tr>\n",
       "    <tr>\n",
       "      <th>208</th>\n",
       "      <td>ZA</td>\n",
       "      <td>Male</td>\n",
       "      <td>5</td>\n",
       "      <td>38.46</td>\n",
       "    </tr>\n",
       "    <tr>\n",
       "      <th>358</th>\n",
       "      <td>ZA</td>\n",
       "      <td>Polygender</td>\n",
       "      <td>2</td>\n",
       "      <td>15.38</td>\n",
       "    </tr>\n",
       "    <tr>\n",
       "      <th>96</th>\n",
       "      <td>ZM</td>\n",
       "      <td>Female</td>\n",
       "      <td>2</td>\n",
       "      <td>50.00</td>\n",
       "    </tr>\n",
       "    <tr>\n",
       "      <th>404</th>\n",
       "      <td>ZM</td>\n",
       "      <td>Male</td>\n",
       "      <td>2</td>\n",
       "      <td>50.00</td>\n",
       "    </tr>\n",
       "    <tr>\n",
       "      <th>165</th>\n",
       "      <td>ZW</td>\n",
       "      <td>Female</td>\n",
       "      <td>1</td>\n",
       "      <td>100.00</td>\n",
       "    </tr>\n",
       "  </tbody>\n",
       "</table>\n",
       "<p>441 rows × 4 columns</p>\n",
       "</div>"
      ],
      "text/plain": [
       "    Country      Gender  Count  Distribution (%)\n",
       "379      AD        Male      1            100.00\n",
       "148      AE        Male      1             50.00\n",
       "429      AE    Bigender      1             50.00\n",
       "38       AF      Female      7             50.00\n",
       "105      AF        Male      7             50.00\n",
       "..      ...         ...    ...               ...\n",
       "208      ZA        Male      5             38.46\n",
       "358      ZA  Polygender      2             15.38\n",
       "96       ZM      Female      2             50.00\n",
       "404      ZM        Male      2             50.00\n",
       "165      ZW      Female      1            100.00\n",
       "\n",
       "[441 rows x 4 columns]"
      ]
     },
     "metadata": {},
     "output_type": "display_data"
    }
   ],
   "source": [
    "try:\n",
    "    df = api_functionalities.get_gender_distribution_by_country(engine)\n",
    "    pd.set_option(\"display.precision\", 2)\n",
    "    display(df)\n",
    "except Exception as e:\n",
    "    print(e)"
   ]
  }
 ],
 "metadata": {
  "kernelspec": {
   "display_name": "CodingTest",
   "language": "python",
   "name": "python3"
  },
  "language_info": {
   "codemirror_mode": {
    "name": "ipython",
    "version": 3
   },
   "file_extension": ".py",
   "mimetype": "text/x-python",
   "name": "python",
   "nbconvert_exporter": "python",
   "pygments_lexer": "ipython3",
   "version": "3.10.9"
  },
  "orig_nbformat": 4,
  "vscode": {
   "interpreter": {
    "hash": "6d08b1bfbcab9b9e3f0b863d94460a9614ef48dd720b862a76d7e0315974dcc8"
   }
  }
 },
 "nbformat": 4,
 "nbformat_minor": 2
}
