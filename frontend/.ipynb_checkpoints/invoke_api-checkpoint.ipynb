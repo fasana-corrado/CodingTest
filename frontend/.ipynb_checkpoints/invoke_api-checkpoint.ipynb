{
 "cells": [
  {
   "cell_type": "markdown",
   "metadata": {},
   "source": [
    "# This notebook is meant to use the developed functionalities."
   ]
  },
  {
   "cell_type": "code",
   "execution_count": 1,
   "metadata": {},
   "outputs": [],
   "source": [
    "import requests\n",
    "from IPython.display import display\n",
    "import pandas as pd"
   ]
  },
  {
   "cell_type": "markdown",
   "metadata": {},
   "source": [
    "## Creation of a new Person"
   ]
  },
  {
   "cell_type": "code",
   "execution_count": 83,
   "metadata": {},
   "outputs": [
    {
     "name": "stdout",
     "output_type": "stream",
     "text": [
      "Error 422\n"
     ]
    }
   ],
   "source": [
    "params = {'first_name' : 'Corrado',\n",
    "          'last_name' : None,\n",
    "          'gender' : \"None\",\n",
    "          'email' : \"cfasana@pippo.pippo.it\",\n",
    "          'ip_address' : \"192.168.1.2\",\n",
    "          'country' : \"None\"\n",
    "}\n",
    "\n",
    "resp = requests.get('http://127.0.0.1:8000/create_person', params)\n",
    "if resp.status_code != 200:\n",
    "    print(f\"Error {resp.status_code}\")\n",
    "else:\n",
    "    print(resp.text)"
   ]
  },
  {
   "cell_type": "markdown",
   "metadata": {},
   "source": [
    "## Obtain list of users by country"
   ]
  },
  {
   "cell_type": "code",
   "execution_count": 58,
   "metadata": {},
   "outputs": [
    {
     "name": "stdout",
     "output_type": "stream",
     "text": [
      "\"No result found in the database.\"\n"
     ]
    }
   ],
   "source": [
    "params = {\n",
    "          'country' : 1\n",
    "}\n",
    "\n",
    "resp = requests.get('http://127.0.0.1:8000/get_people_by_country', params)\n",
    "if resp.status_code != 200:\n",
    "    print(f\"Error {resp.status_code}\")\n",
    "else:\n",
    "        try:\n",
    "            display(pd.read_json(resp.text))\n",
    "        except Exception as e:\n",
    "            print(resp.text)\n"
   ]
  },
  {
   "cell_type": "markdown",
   "metadata": {},
   "source": [
    "## Obtain count of users by country"
   ]
  },
  {
   "cell_type": "code",
   "execution_count": 49,
   "metadata": {},
   "outputs": [
    {
     "name": "stdout",
     "output_type": "stream",
     "text": [
      "\"The number of users for country UK is 13.\"\n"
     ]
    }
   ],
   "source": [
    "params = {\n",
    "          'country' : \"UK\"\n",
    "}\n",
    "\n",
    "resp = requests.get('http://127.0.0.1:8000/get_people_count_by_country', params)\n",
    "if resp.status_code != 200:\n",
    "    print(f\"Error {resp.status_code}\")\n",
    "else:\n",
    "    print(resp.text)"
   ]
  },
  {
   "cell_type": "markdown",
   "metadata": {},
   "source": [
    "## Obtain people distribution by gender"
   ]
  },
  {
   "cell_type": "code",
   "execution_count": 50,
   "metadata": {},
   "outputs": [
    {
     "data": {
      "text/html": [
       "<div>\n",
       "<style scoped>\n",
       "    .dataframe tbody tr th:only-of-type {\n",
       "        vertical-align: middle;\n",
       "    }\n",
       "\n",
       "    .dataframe tbody tr th {\n",
       "        vertical-align: top;\n",
       "    }\n",
       "\n",
       "    .dataframe thead th {\n",
       "        text-align: right;\n",
       "    }\n",
       "</style>\n",
       "<table border=\"1\" class=\"dataframe\">\n",
       "  <thead>\n",
       "    <tr style=\"text-align: right;\">\n",
       "      <th></th>\n",
       "      <th>Gender</th>\n",
       "      <th>Count</th>\n",
       "      <th>Distribution (%)</th>\n",
       "    </tr>\n",
       "  </thead>\n",
       "  <tbody>\n",
       "    <tr>\n",
       "      <th>0</th>\n",
       "      <td>Male</td>\n",
       "      <td>13</td>\n",
       "      <td>100</td>\n",
       "    </tr>\n",
       "  </tbody>\n",
       "</table>\n",
       "</div>"
      ],
      "text/plain": [
       "  Gender  Count  Distribution (%)\n",
       "0   Male     13               100"
      ]
     },
     "metadata": {},
     "output_type": "display_data"
    }
   ],
   "source": [
    "resp = requests.get('http://127.0.0.1:8000/get_people_gender_distribution')\n",
    "if resp.status_code != 200:\n",
    "    print(f\"Error {resp.status_code}\")\n",
    "else:\n",
    "    try:\n",
    "        display(pd.read_json(resp.text))\n",
    "    except Exception as e:\n",
    "        print(resp.text)"
   ]
  },
  {
   "cell_type": "markdown",
   "metadata": {},
   "source": [
    "## Obtain ip address distribution over classes"
   ]
  },
  {
   "cell_type": "code",
   "execution_count": 51,
   "metadata": {},
   "outputs": [
    {
     "data": {
      "text/html": [
       "<div>\n",
       "<style scoped>\n",
       "    .dataframe tbody tr th:only-of-type {\n",
       "        vertical-align: middle;\n",
       "    }\n",
       "\n",
       "    .dataframe tbody tr th {\n",
       "        vertical-align: top;\n",
       "    }\n",
       "\n",
       "    .dataframe thead th {\n",
       "        text-align: right;\n",
       "    }\n",
       "</style>\n",
       "<table border=\"1\" class=\"dataframe\">\n",
       "  <thead>\n",
       "    <tr style=\"text-align: right;\">\n",
       "      <th></th>\n",
       "      <th>Count</th>\n",
       "      <th>Distribution (%)</th>\n",
       "    </tr>\n",
       "  </thead>\n",
       "  <tbody>\n",
       "    <tr>\n",
       "      <th>A</th>\n",
       "      <td>0</td>\n",
       "      <td>0</td>\n",
       "    </tr>\n",
       "    <tr>\n",
       "      <th>B</th>\n",
       "      <td>0</td>\n",
       "      <td>0</td>\n",
       "    </tr>\n",
       "    <tr>\n",
       "      <th>C</th>\n",
       "      <td>13</td>\n",
       "      <td>100</td>\n",
       "    </tr>\n",
       "    <tr>\n",
       "      <th>D</th>\n",
       "      <td>0</td>\n",
       "      <td>0</td>\n",
       "    </tr>\n",
       "    <tr>\n",
       "      <th>E</th>\n",
       "      <td>0</td>\n",
       "      <td>0</td>\n",
       "    </tr>\n",
       "  </tbody>\n",
       "</table>\n",
       "</div>"
      ],
      "text/plain": [
       "   Count  Distribution (%)\n",
       "A      0                 0\n",
       "B      0                 0\n",
       "C     13               100\n",
       "D      0                 0\n",
       "E      0                 0"
      ]
     },
     "metadata": {},
     "output_type": "display_data"
    }
   ],
   "source": [
    "resp = requests.get('http://127.0.0.1:8000/get_ip_address_distribution_by_class')\n",
    "if resp.status_code != 200:\n",
    "    print(f\"Error {resp.status_code}\")\n",
    "else:\n",
    "    try:\n",
    "        display(pd.read_json(resp.text))\n",
    "    except Exception as e:\n",
    "        print(resp.text)"
   ]
  },
  {
   "cell_type": "markdown",
   "metadata": {},
   "source": [
    "## Obtain most common email domain"
   ]
  },
  {
   "cell_type": "code",
   "execution_count": 52,
   "metadata": {},
   "outputs": [
    {
     "name": "stdout",
     "output_type": "stream",
     "text": [
      "\"The most commons domains are ['prova.it'] which occurr 9 times each.\"\n"
     ]
    }
   ],
   "source": [
    "resp = requests.get('http://127.0.0.1:8000/get_most_common_domain')\n",
    "if resp.status_code != 200:\n",
    "    print(f\"Error {resp.status_code}\")\n",
    "else:\n",
    "    print(resp.text)"
   ]
  },
  {
   "cell_type": "markdown",
   "metadata": {},
   "source": [
    "## Obtain correlation between country and domain"
   ]
  },
  {
   "cell_type": "code",
   "execution_count": 53,
   "metadata": {},
   "outputs": [
    {
     "name": "stdout",
     "output_type": "stream",
     "text": [
      "\"The correlation between Country and Domain is -0.000\"\n"
     ]
    }
   ],
   "source": [
    "resp = requests.get('http://127.0.0.1:8000/get_country_domain_correlation')\n",
    "if resp.status_code != 200:\n",
    "    print(f\"Error {resp.status_code}\")\n",
    "else:\n",
    "    print(resp.text)"
   ]
  },
  {
   "cell_type": "markdown",
   "metadata": {},
   "source": [
    "## Obtain correlation between domain and gender"
   ]
  },
  {
   "cell_type": "code",
   "execution_count": 54,
   "metadata": {},
   "outputs": [
    {
     "name": "stdout",
     "output_type": "stream",
     "text": [
      "\"The correlation between Gender and Domain is -0.000\"\n"
     ]
    }
   ],
   "source": [
    "resp = requests.get('http://127.0.0.1:8000/get_gender_domain_correlation')\n",
    "if resp.status_code != 200:\n",
    "    print(f\"Error {resp.status_code}\")\n",
    "else:\n",
    "    print(resp.text)"
   ]
  },
  {
   "cell_type": "markdown",
   "metadata": {},
   "source": [
    "## Obtain email patters"
   ]
  },
  {
   "cell_type": "code",
   "execution_count": 39,
   "metadata": {},
   "outputs": [
    {
     "name": "stdout",
     "output_type": "stream",
     "text": [
      "\"The most common email pattern is: ['flast@domain'].\"\n"
     ]
    }
   ],
   "source": [
    "resp = requests.get('http://127.0.0.1:8000/get_common_email_patterns')\n",
    "if resp.status_code != 200:\n",
    "    print(f\"Error {resp.status_code}\")\n",
    "else:\n",
    "    print(resp.text)"
   ]
  },
  {
   "cell_type": "markdown",
   "metadata": {},
   "source": [
    "## Other analysis: Gender-Country correlation"
   ]
  },
  {
   "cell_type": "code",
   "execution_count": 55,
   "metadata": {},
   "outputs": [
    {
     "name": "stdout",
     "output_type": "stream",
     "text": [
      "\"The correlation between Gender and Country is -0.000\"\n"
     ]
    }
   ],
   "source": [
    "resp = requests.get('http://127.0.0.1:8000/get_gender_country_correlation')\n",
    "if resp.status_code != 200:\n",
    "    print(f\"Error {resp.status_code}\")\n",
    "else:\n",
    "    print(resp.text)"
   ]
  },
  {
   "cell_type": "markdown",
   "metadata": {},
   "source": [
    "## Other analysis: Gender distribution over countries"
   ]
  },
  {
   "cell_type": "code",
   "execution_count": 41,
   "metadata": {},
   "outputs": [
    {
     "data": {
      "text/html": [
       "<div>\n",
       "<style scoped>\n",
       "    .dataframe tbody tr th:only-of-type {\n",
       "        vertical-align: middle;\n",
       "    }\n",
       "\n",
       "    .dataframe tbody tr th {\n",
       "        vertical-align: top;\n",
       "    }\n",
       "\n",
       "    .dataframe thead th {\n",
       "        text-align: right;\n",
       "    }\n",
       "</style>\n",
       "<table border=\"1\" class=\"dataframe\">\n",
       "  <thead>\n",
       "    <tr style=\"text-align: right;\">\n",
       "      <th></th>\n",
       "      <th>Country</th>\n",
       "      <th>Gender</th>\n",
       "      <th>Count</th>\n",
       "      <th>Distribution (%)</th>\n",
       "    </tr>\n",
       "  </thead>\n",
       "  <tbody>\n",
       "    <tr>\n",
       "      <th>0</th>\n",
       "      <td>UK</td>\n",
       "      <td>Male</td>\n",
       "      <td>9</td>\n",
       "      <td>100</td>\n",
       "    </tr>\n",
       "  </tbody>\n",
       "</table>\n",
       "</div>"
      ],
      "text/plain": [
       "  Country Gender  Count  Distribution (%)\n",
       "0      UK   Male      9               100"
      ]
     },
     "metadata": {},
     "output_type": "display_data"
    }
   ],
   "source": [
    "resp = requests.get('http://127.0.0.1:8000/get_gender_distribution_by_country')\n",
    "if resp.status_code != 200:\n",
    "    print(f\"Error {resp.status_code}\")\n",
    "else:\n",
    "    try:\n",
    "        display(pd.read_json(resp.text))\n",
    "    except Exception as e:\n",
    "        print(resp.text)"
   ]
  },
  {
   "cell_type": "code",
   "execution_count": null,
   "metadata": {},
   "outputs": [],
   "source": []
  }
 ],
 "metadata": {
  "kernelspec": {
   "display_name": "Python 3 (ipykernel)",
   "language": "python",
   "name": "python3"
  },
  "language_info": {
   "codemirror_mode": {
    "name": "ipython",
    "version": 3
   },
   "file_extension": ".py",
   "mimetype": "text/x-python",
   "name": "python",
   "nbconvert_exporter": "python",
   "pygments_lexer": "ipython3",
   "version": "3.10.9"
  },
  "vscode": {
   "interpreter": {
    "hash": "6d08b1bfbcab9b9e3f0b863d94460a9614ef48dd720b862a76d7e0315974dcc8"
   }
  }
 },
 "nbformat": 4,
 "nbformat_minor": 4
}
