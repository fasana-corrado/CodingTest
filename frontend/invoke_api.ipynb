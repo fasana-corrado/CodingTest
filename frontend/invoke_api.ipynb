{
 "cells": [
  {
   "cell_type": "markdown",
   "metadata": {},
   "source": [
    "# This notebook is meant to use the developed functionalities."
   ]
  },
  {
   "cell_type": "code",
   "execution_count": 1,
   "metadata": {},
   "outputs": [],
   "source": [
    "import requests\n",
    "from IPython.display import display\n",
    "import pandas as pd"
   ]
  },
  {
   "cell_type": "markdown",
   "metadata": {},
   "source": [
    "## Creation of a new Person"
   ]
  },
  {
   "cell_type": "code",
   "execution_count": null,
   "metadata": {},
   "outputs": [],
   "source": [
    "params = {'first_name' : 'Camillo',\n",
    "          'last_name' : 'Boni',\n",
    "          'gender' : \"Male\",\n",
    "          'email' : \"camillo.boni@mail.it\",\n",
    "          'ip_address' : \"192.168.1.2\",\n",
    "          'country' : \"CN\"\n",
    "}\n",
    "\n",
    "resp = requests.get('http://127.0.0.1:8000/create_person', params)\n",
    "if resp.status_code != 200:\n",
    "    print(f\"Error {resp.status_code}\")\n",
    "else:\n",
    "    print(resp.text)"
   ]
  },
  {
   "cell_type": "markdown",
   "metadata": {},
   "source": [
    "## Obtain list of users by country"
   ]
  },
  {
   "cell_type": "code",
   "execution_count": null,
   "metadata": {},
   "outputs": [],
   "source": [
    "params = {\n",
    "          'country' : \"CN\"\n",
    "}\n",
    "\n",
    "resp = requests.get('http://127.0.0.1:8000/get_people_by_country', params)\n",
    "if resp.status_code != 200:\n",
    "    print(f\"Error {resp.status_code}\")\n",
    "else:\n",
    "        try:\n",
    "            display(pd.read_json(resp.text))\n",
    "        except Exception as e:\n",
    "            print(resp.text)\n"
   ]
  },
  {
   "cell_type": "markdown",
   "metadata": {},
   "source": [
    "## Obtain count of users by country"
   ]
  },
  {
   "cell_type": "code",
   "execution_count": null,
   "metadata": {},
   "outputs": [],
   "source": [
    "resp = requests.get('http://127.0.0.1:8000/get_people_count_by_country')\n",
    "if resp.status_code != 200:\n",
    "    print(f\"Error {resp.status_code}\")\n",
    "else:\n",
    "    try:\n",
    "        display(pd.read_json(resp.text))\n",
    "    except Exception as e:\n",
    "        print(resp.text)"
   ]
  },
  {
   "cell_type": "markdown",
   "metadata": {},
   "source": [
    "## Obtain people distribution by gender"
   ]
  },
  {
   "cell_type": "code",
   "execution_count": null,
   "metadata": {},
   "outputs": [],
   "source": [
    "resp = requests.get('http://127.0.0.1:8000/get_people_gender_distribution')\n",
    "if resp.status_code != 200:\n",
    "    print(f\"Error {resp.status_code}\")\n",
    "else:\n",
    "    try:\n",
    "        display(pd.read_json(resp.text))\n",
    "    except Exception as e:\n",
    "        print(resp.text)"
   ]
  },
  {
   "cell_type": "markdown",
   "metadata": {},
   "source": [
    "## Obtain ip address distribution over classes"
   ]
  },
  {
   "cell_type": "code",
   "execution_count": null,
   "metadata": {},
   "outputs": [],
   "source": [
    "resp = requests.get('http://127.0.0.1:8000/get_ip_address_distribution_by_class')\n",
    "if resp.status_code != 200:\n",
    "    print(f\"Error {resp.status_code}\")\n",
    "else:\n",
    "    try:\n",
    "        display(pd.read_json(resp.text))\n",
    "    except Exception as e:\n",
    "        print(resp.text)"
   ]
  },
  {
   "cell_type": "markdown",
   "metadata": {},
   "source": [
    "## Obtain most common email domain"
   ]
  },
  {
   "cell_type": "code",
   "execution_count": null,
   "metadata": {},
   "outputs": [],
   "source": [
    "resp = requests.get('http://127.0.0.1:8000/get_most_common_domain')\n",
    "if resp.status_code != 200:\n",
    "    print(f\"Error {resp.status_code}\")\n",
    "else:\n",
    "    print(resp.text)"
   ]
  },
  {
   "cell_type": "markdown",
   "metadata": {},
   "source": [
    "## Obtain correlation between country and domain"
   ]
  },
  {
   "cell_type": "code",
   "execution_count": null,
   "metadata": {},
   "outputs": [],
   "source": [
    "resp = requests.get('http://127.0.0.1:8000/get_country_domain_correlation')\n",
    "if resp.status_code != 200:\n",
    "    print(f\"Error {resp.status_code}\")\n",
    "else:\n",
    "    print(resp.text)"
   ]
  },
  {
   "cell_type": "markdown",
   "metadata": {},
   "source": [
    "## Obtain correlation between domain and gender"
   ]
  },
  {
   "cell_type": "code",
   "execution_count": null,
   "metadata": {},
   "outputs": [],
   "source": [
    "resp = requests.get('http://127.0.0.1:8000/get_gender_domain_correlation')\n",
    "if resp.status_code != 200:\n",
    "    print(f\"Error {resp.status_code}\")\n",
    "else:\n",
    "    print(resp.text)"
   ]
  },
  {
   "cell_type": "markdown",
   "metadata": {},
   "source": [
    "## Obtain email patters"
   ]
  },
  {
   "cell_type": "code",
   "execution_count": null,
   "metadata": {},
   "outputs": [],
   "source": [
    "resp = requests.get('http://127.0.0.1:8000/get_common_email_patterns')\n",
    "if resp.status_code != 200:\n",
    "    print(f\"Error {resp.status_code}\")\n",
    "else:\n",
    "    print(resp.text)"
   ]
  },
  {
   "cell_type": "markdown",
   "metadata": {},
   "source": [
    "## Other analysis: Gender-Country correlation"
   ]
  },
  {
   "cell_type": "code",
   "execution_count": null,
   "metadata": {},
   "outputs": [],
   "source": [
    "resp = requests.get('http://127.0.0.1:8000/get_gender_country_correlation')\n",
    "if resp.status_code != 200:\n",
    "    print(f\"Error {resp.status_code}\")\n",
    "else:\n",
    "    print(resp.text)"
   ]
  },
  {
   "cell_type": "markdown",
   "metadata": {},
   "source": [
    "## Other analysis: Gender distribution over countries"
   ]
  },
  {
   "cell_type": "code",
   "execution_count": 2,
   "metadata": {},
   "outputs": [
    {
     "name": "stdout",
     "output_type": "stream",
     "text": [
      "Error 500\n"
     ]
    }
   ],
   "source": [
    "resp = requests.get('http://127.0.0.1:8000/get_gender_distribution_by_country')\n",
    "if resp.status_code != 200:\n",
    "    print(f\"Error {resp.status_code}\")\n",
    "else:\n",
    "    try:\n",
    "        display(pd.read_json(resp.text))\n",
    "    except Exception as e:\n",
    "        print(resp.text)"
   ]
  }
 ],
 "metadata": {
  "kernelspec": {
   "display_name": "Python 3 (ipykernel)",
   "language": "python",
   "name": "python3"
  },
  "language_info": {
   "codemirror_mode": {
    "name": "ipython",
    "version": 3
   },
   "file_extension": ".py",
   "mimetype": "text/x-python",
   "name": "python",
   "nbconvert_exporter": "python",
   "pygments_lexer": "ipython3",
   "version": "3.10.9"
  },
  "vscode": {
   "interpreter": {
    "hash": "6d08b1bfbcab9b9e3f0b863d94460a9614ef48dd720b862a76d7e0315974dcc8"
   }
  }
 },
 "nbformat": 4,
 "nbformat_minor": 4
}
