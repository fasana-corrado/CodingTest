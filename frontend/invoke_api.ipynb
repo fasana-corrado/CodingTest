{
 "cells": [
  {
   "cell_type": "markdown",
   "metadata": {},
   "source": [
    "# This notebook is meant to use the developed functionalities."
   ]
  },
  {
   "cell_type": "code",
   "execution_count": 1,
   "metadata": {},
   "outputs": [],
   "source": [
    "import requests\n",
    "from IPython.display import display\n",
    "import pandas as pd"
   ]
  },
  {
   "cell_type": "markdown",
   "metadata": {},
   "source": [
    "## Creation of a new Person"
   ]
  },
  {
   "cell_type": "code",
   "execution_count": 5,
   "metadata": {},
   "outputs": [
    {
     "name": "stdout",
     "output_type": "stream",
     "text": [
      "\"Person created successfully.\"\n"
     ]
    }
   ],
   "source": [
    "params = {'first_name' : 'Corrado',\n",
    "          'last_name' : 'Fasana',\n",
    "          'gender' : \"Male\",\n",
    "          'email' : \"corrado.fasana@mail.it\",\n",
    "          'ip_address' : \"192.168.1.2\",\n",
    "          'country' : \"CN\"\n",
    "}\n",
    "\n",
    "resp = requests.get('http://127.0.0.1:8000/create_person', params)\n",
    "if resp.status_code != 200:\n",
    "    print(f\"Error {resp.status_code}\")\n",
    "else:\n",
    "    print(resp.text)"
   ]
  },
  {
   "cell_type": "markdown",
   "metadata": {},
   "source": [
    "## Obtain list of users by country"
   ]
  },
  {
   "cell_type": "code",
   "execution_count": 2,
   "metadata": {},
   "outputs": [
    {
     "data": {
      "text/html": [
       "<div>\n",
       "<style scoped>\n",
       "    .dataframe tbody tr th:only-of-type {\n",
       "        vertical-align: middle;\n",
       "    }\n",
       "\n",
       "    .dataframe tbody tr th {\n",
       "        vertical-align: top;\n",
       "    }\n",
       "\n",
       "    .dataframe thead th {\n",
       "        text-align: right;\n",
       "    }\n",
       "</style>\n",
       "<table border=\"1\" class=\"dataframe\">\n",
       "  <thead>\n",
       "    <tr style=\"text-align: right;\">\n",
       "      <th></th>\n",
       "      <th>id</th>\n",
       "      <th>first_name</th>\n",
       "      <th>last_name</th>\n",
       "      <th>email</th>\n",
       "      <th>gender</th>\n",
       "      <th>ip_address</th>\n",
       "    </tr>\n",
       "  </thead>\n",
       "  <tbody>\n",
       "    <tr>\n",
       "      <th>0</th>\n",
       "      <td>1002</td>\n",
       "      <td>Flory</td>\n",
       "      <td>Boreham</td>\n",
       "      <td>fboreham1@blog.com</td>\n",
       "      <td>Genderfluid</td>\n",
       "      <td>136.96.40.124</td>\n",
       "    </tr>\n",
       "    <tr>\n",
       "      <th>1</th>\n",
       "      <td>1004</td>\n",
       "      <td>Janetta</td>\n",
       "      <td>O'Hagirtie</td>\n",
       "      <td>johagirtie3@google.co.uk</td>\n",
       "      <td>Female</td>\n",
       "      <td>254.129.191.35</td>\n",
       "    </tr>\n",
       "    <tr>\n",
       "      <th>2</th>\n",
       "      <td>1005</td>\n",
       "      <td>Vivyanne</td>\n",
       "      <td>Watmough</td>\n",
       "      <td>vwatmough4@ftc.gov</td>\n",
       "      <td>Female</td>\n",
       "      <td>4.147.90.123</td>\n",
       "    </tr>\n",
       "    <tr>\n",
       "      <th>3</th>\n",
       "      <td>1008</td>\n",
       "      <td>Arabella</td>\n",
       "      <td>Noton</td>\n",
       "      <td>anoton7@rediff.com</td>\n",
       "      <td>Female</td>\n",
       "      <td>238.57.200.33</td>\n",
       "    </tr>\n",
       "    <tr>\n",
       "      <th>4</th>\n",
       "      <td>1012</td>\n",
       "      <td>Reggis</td>\n",
       "      <td>Drysdall</td>\n",
       "      <td>rdrysdallb@gnu.org</td>\n",
       "      <td>Male</td>\n",
       "      <td>12.121.228.57</td>\n",
       "    </tr>\n",
       "    <tr>\n",
       "      <th>...</th>\n",
       "      <td>...</td>\n",
       "      <td>...</td>\n",
       "      <td>...</td>\n",
       "      <td>...</td>\n",
       "      <td>...</td>\n",
       "      <td>...</td>\n",
       "    </tr>\n",
       "    <tr>\n",
       "      <th>348</th>\n",
       "      <td>2988</td>\n",
       "      <td>Nowell</td>\n",
       "      <td>Codron</td>\n",
       "      <td>ncodronrf@homestead.com</td>\n",
       "      <td>Male</td>\n",
       "      <td>6.36.79.10</td>\n",
       "    </tr>\n",
       "    <tr>\n",
       "      <th>349</th>\n",
       "      <td>2991</td>\n",
       "      <td>Evy</td>\n",
       "      <td>Mumford</td>\n",
       "      <td>emumfordri@thetimes.co.uk</td>\n",
       "      <td>Agender</td>\n",
       "      <td>10.243.81.26</td>\n",
       "    </tr>\n",
       "    <tr>\n",
       "      <th>350</th>\n",
       "      <td>2995</td>\n",
       "      <td>Urbain</td>\n",
       "      <td>Siveyer</td>\n",
       "      <td>usiveyerrm@tuttocitta.it</td>\n",
       "      <td>Male</td>\n",
       "      <td>0.167.111.79</td>\n",
       "    </tr>\n",
       "    <tr>\n",
       "      <th>351</th>\n",
       "      <td>2997</td>\n",
       "      <td>Trip</td>\n",
       "      <td>Ochterlony</td>\n",
       "      <td>tochterlonyro@about.me</td>\n",
       "      <td>Male</td>\n",
       "      <td>228.89.100.97</td>\n",
       "    </tr>\n",
       "    <tr>\n",
       "      <th>352</th>\n",
       "      <td>3002</td>\n",
       "      <td>Corrado</td>\n",
       "      <td>Fasana</td>\n",
       "      <td>corrado.fasana@mail.it</td>\n",
       "      <td>Male</td>\n",
       "      <td>192.168.1.2</td>\n",
       "    </tr>\n",
       "  </tbody>\n",
       "</table>\n",
       "<p>353 rows × 6 columns</p>\n",
       "</div>"
      ],
      "text/plain": [
       "       id first_name   last_name                      email       gender  \\\n",
       "0    1002      Flory     Boreham         fboreham1@blog.com  Genderfluid   \n",
       "1    1004    Janetta  O'Hagirtie   johagirtie3@google.co.uk       Female   \n",
       "2    1005   Vivyanne    Watmough         vwatmough4@ftc.gov       Female   \n",
       "3    1008   Arabella       Noton         anoton7@rediff.com       Female   \n",
       "4    1012     Reggis    Drysdall         rdrysdallb@gnu.org         Male   \n",
       "..    ...        ...         ...                        ...          ...   \n",
       "348  2988     Nowell      Codron    ncodronrf@homestead.com         Male   \n",
       "349  2991        Evy     Mumford  emumfordri@thetimes.co.uk      Agender   \n",
       "350  2995     Urbain     Siveyer   usiveyerrm@tuttocitta.it         Male   \n",
       "351  2997       Trip  Ochterlony     tochterlonyro@about.me         Male   \n",
       "352  3002    Corrado      Fasana     corrado.fasana@mail.it         Male   \n",
       "\n",
       "         ip_address  \n",
       "0     136.96.40.124  \n",
       "1    254.129.191.35  \n",
       "2      4.147.90.123  \n",
       "3     238.57.200.33  \n",
       "4     12.121.228.57  \n",
       "..              ...  \n",
       "348      6.36.79.10  \n",
       "349    10.243.81.26  \n",
       "350    0.167.111.79  \n",
       "351   228.89.100.97  \n",
       "352     192.168.1.2  \n",
       "\n",
       "[353 rows x 6 columns]"
      ]
     },
     "metadata": {},
     "output_type": "display_data"
    }
   ],
   "source": [
    "params = {\n",
    "          'country' : \"CN\"\n",
    "}\n",
    "\n",
    "resp = requests.get('http://127.0.0.1:8000/get_people_by_country', params)\n",
    "if resp.status_code != 200:\n",
    "    print(f\"Error {resp.status_code}\")\n",
    "else:\n",
    "        try:\n",
    "            display(pd.read_json(resp.text))\n",
    "        except Exception as e:\n",
    "            print(resp.text)\n"
   ]
  },
  {
   "cell_type": "markdown",
   "metadata": {},
   "source": [
    "## Obtain count of users by country"
   ]
  },
  {
   "cell_type": "code",
   "execution_count": 4,
   "metadata": {},
   "outputs": [
    {
     "data": {
      "text/html": [
       "<div>\n",
       "<style scoped>\n",
       "    .dataframe tbody tr th:only-of-type {\n",
       "        vertical-align: middle;\n",
       "    }\n",
       "\n",
       "    .dataframe tbody tr th {\n",
       "        vertical-align: top;\n",
       "    }\n",
       "\n",
       "    .dataframe thead th {\n",
       "        text-align: right;\n",
       "    }\n",
       "</style>\n",
       "<table border=\"1\" class=\"dataframe\">\n",
       "  <thead>\n",
       "    <tr style=\"text-align: right;\">\n",
       "      <th></th>\n",
       "      <th>Country</th>\n",
       "      <th>Count</th>\n",
       "    </tr>\n",
       "  </thead>\n",
       "  <tbody>\n",
       "    <tr>\n",
       "      <th>1</th>\n",
       "      <td>CN</td>\n",
       "      <td>353</td>\n",
       "    </tr>\n",
       "    <tr>\n",
       "      <th>12</th>\n",
       "      <td>ID</td>\n",
       "      <td>224</td>\n",
       "    </tr>\n",
       "    <tr>\n",
       "      <th>14</th>\n",
       "      <td>RU</td>\n",
       "      <td>117</td>\n",
       "    </tr>\n",
       "    <tr>\n",
       "      <th>21</th>\n",
       "      <td>PH</td>\n",
       "      <td>92</td>\n",
       "    </tr>\n",
       "    <tr>\n",
       "      <th>11</th>\n",
       "      <td>BR</td>\n",
       "      <td>90</td>\n",
       "    </tr>\n",
       "    <tr>\n",
       "      <th>...</th>\n",
       "      <td>...</td>\n",
       "      <td>...</td>\n",
       "    </tr>\n",
       "    <tr>\n",
       "      <th>123</th>\n",
       "      <td>BN</td>\n",
       "      <td>1</td>\n",
       "    </tr>\n",
       "    <tr>\n",
       "      <th>124</th>\n",
       "      <td>KM</td>\n",
       "      <td>1</td>\n",
       "    </tr>\n",
       "    <tr>\n",
       "      <th>64</th>\n",
       "      <td>KW</td>\n",
       "      <td>1</td>\n",
       "    </tr>\n",
       "    <tr>\n",
       "      <th>99</th>\n",
       "      <td>GE</td>\n",
       "      <td>1</td>\n",
       "    </tr>\n",
       "    <tr>\n",
       "      <th>153</th>\n",
       "      <td>BH</td>\n",
       "      <td>1</td>\n",
       "    </tr>\n",
       "  </tbody>\n",
       "</table>\n",
       "<p>154 rows × 2 columns</p>\n",
       "</div>"
      ],
      "text/plain": [
       "    Country  Count\n",
       "1        CN    353\n",
       "12       ID    224\n",
       "14       RU    117\n",
       "21       PH     92\n",
       "11       BR     90\n",
       "..      ...    ...\n",
       "123      BN      1\n",
       "124      KM      1\n",
       "64       KW      1\n",
       "99       GE      1\n",
       "153      BH      1\n",
       "\n",
       "[154 rows x 2 columns]"
      ]
     },
     "metadata": {},
     "output_type": "display_data"
    }
   ],
   "source": [
    "resp = requests.get('http://127.0.0.1:8000/get_people_count_by_country')\n",
    "if resp.status_code != 200:\n",
    "    print(f\"Error {resp.status_code}\")\n",
    "else:\n",
    "    try:\n",
    "        display(pd.read_json(resp.text))\n",
    "    except Exception as e:\n",
    "        print(resp.text)"
   ]
  },
  {
   "cell_type": "markdown",
   "metadata": {},
   "source": [
    "## Obtain people distribution by gender"
   ]
  },
  {
   "cell_type": "code",
   "execution_count": 5,
   "metadata": {},
   "outputs": [
    {
     "data": {
      "text/html": [
       "<div>\n",
       "<style scoped>\n",
       "    .dataframe tbody tr th:only-of-type {\n",
       "        vertical-align: middle;\n",
       "    }\n",
       "\n",
       "    .dataframe tbody tr th {\n",
       "        vertical-align: top;\n",
       "    }\n",
       "\n",
       "    .dataframe thead th {\n",
       "        text-align: right;\n",
       "    }\n",
       "</style>\n",
       "<table border=\"1\" class=\"dataframe\">\n",
       "  <thead>\n",
       "    <tr style=\"text-align: right;\">\n",
       "      <th></th>\n",
       "      <th>Gender</th>\n",
       "      <th>Count</th>\n",
       "      <th>Distribution (%)</th>\n",
       "    </tr>\n",
       "  </thead>\n",
       "  <tbody>\n",
       "    <tr>\n",
       "      <th>2</th>\n",
       "      <td>Female</td>\n",
       "      <td>931</td>\n",
       "      <td>46.503497</td>\n",
       "    </tr>\n",
       "    <tr>\n",
       "      <th>0</th>\n",
       "      <td>Male</td>\n",
       "      <td>883</td>\n",
       "      <td>44.105894</td>\n",
       "    </tr>\n",
       "    <tr>\n",
       "      <th>4</th>\n",
       "      <td>Agender</td>\n",
       "      <td>43</td>\n",
       "      <td>2.147852</td>\n",
       "    </tr>\n",
       "    <tr>\n",
       "      <th>3</th>\n",
       "      <td>Bigender</td>\n",
       "      <td>36</td>\n",
       "      <td>1.798202</td>\n",
       "    </tr>\n",
       "    <tr>\n",
       "      <th>6</th>\n",
       "      <td>Genderqueer</td>\n",
       "      <td>29</td>\n",
       "      <td>1.448551</td>\n",
       "    </tr>\n",
       "    <tr>\n",
       "      <th>5</th>\n",
       "      <td>Polygender</td>\n",
       "      <td>28</td>\n",
       "      <td>1.398601</td>\n",
       "    </tr>\n",
       "    <tr>\n",
       "      <th>1</th>\n",
       "      <td>Genderfluid</td>\n",
       "      <td>27</td>\n",
       "      <td>1.348651</td>\n",
       "    </tr>\n",
       "    <tr>\n",
       "      <th>7</th>\n",
       "      <td>Non-binary</td>\n",
       "      <td>25</td>\n",
       "      <td>1.248751</td>\n",
       "    </tr>\n",
       "  </tbody>\n",
       "</table>\n",
       "</div>"
      ],
      "text/plain": [
       "        Gender  Count  Distribution (%)\n",
       "2       Female    931         46.503497\n",
       "0         Male    883         44.105894\n",
       "4      Agender     43          2.147852\n",
       "3     Bigender     36          1.798202\n",
       "6  Genderqueer     29          1.448551\n",
       "5   Polygender     28          1.398601\n",
       "1  Genderfluid     27          1.348651\n",
       "7   Non-binary     25          1.248751"
      ]
     },
     "metadata": {},
     "output_type": "display_data"
    }
   ],
   "source": [
    "resp = requests.get('http://127.0.0.1:8000/get_people_gender_distribution')\n",
    "if resp.status_code != 200:\n",
    "    print(f\"Error {resp.status_code}\")\n",
    "else:\n",
    "    try:\n",
    "        display(pd.read_json(resp.text))\n",
    "    except Exception as e:\n",
    "        print(resp.text)"
   ]
  },
  {
   "cell_type": "markdown",
   "metadata": {},
   "source": [
    "## Obtain ip address distribution over classes"
   ]
  },
  {
   "cell_type": "code",
   "execution_count": 6,
   "metadata": {},
   "outputs": [
    {
     "data": {
      "text/html": [
       "<div>\n",
       "<style scoped>\n",
       "    .dataframe tbody tr th:only-of-type {\n",
       "        vertical-align: middle;\n",
       "    }\n",
       "\n",
       "    .dataframe tbody tr th {\n",
       "        vertical-align: top;\n",
       "    }\n",
       "\n",
       "    .dataframe thead th {\n",
       "        text-align: right;\n",
       "    }\n",
       "</style>\n",
       "<table border=\"1\" class=\"dataframe\">\n",
       "  <thead>\n",
       "    <tr style=\"text-align: right;\">\n",
       "      <th></th>\n",
       "      <th>Count</th>\n",
       "      <th>Distribution (%)</th>\n",
       "    </tr>\n",
       "  </thead>\n",
       "  <tbody>\n",
       "    <tr>\n",
       "      <th>A</th>\n",
       "      <td>969</td>\n",
       "      <td>48.401598</td>\n",
       "    </tr>\n",
       "    <tr>\n",
       "      <th>B</th>\n",
       "      <td>494</td>\n",
       "      <td>24.675325</td>\n",
       "    </tr>\n",
       "    <tr>\n",
       "      <th>C</th>\n",
       "      <td>266</td>\n",
       "      <td>13.286713</td>\n",
       "    </tr>\n",
       "    <tr>\n",
       "      <th>E</th>\n",
       "      <td>151</td>\n",
       "      <td>7.542458</td>\n",
       "    </tr>\n",
       "    <tr>\n",
       "      <th>D</th>\n",
       "      <td>122</td>\n",
       "      <td>6.093906</td>\n",
       "    </tr>\n",
       "  </tbody>\n",
       "</table>\n",
       "</div>"
      ],
      "text/plain": [
       "   Count  Distribution (%)\n",
       "A    969         48.401598\n",
       "B    494         24.675325\n",
       "C    266         13.286713\n",
       "E    151          7.542458\n",
       "D    122          6.093906"
      ]
     },
     "metadata": {},
     "output_type": "display_data"
    }
   ],
   "source": [
    "resp = requests.get('http://127.0.0.1:8000/get_ip_address_distribution_by_class')\n",
    "if resp.status_code != 200:\n",
    "    print(f\"Error {resp.status_code}\")\n",
    "else:\n",
    "    try:\n",
    "        display(pd.read_json(resp.text))\n",
    "    except Exception as e:\n",
    "        print(resp.text)"
   ]
  },
  {
   "cell_type": "markdown",
   "metadata": {},
   "source": [
    "## Obtain most common email domain"
   ]
  },
  {
   "cell_type": "code",
   "execution_count": 7,
   "metadata": {},
   "outputs": [
    {
     "name": "stdout",
     "output_type": "stream",
     "text": [
      "\"The most commons domains are ['altervista.org'] which occurr 11 times each.\"\n"
     ]
    }
   ],
   "source": [
    "resp = requests.get('http://127.0.0.1:8000/get_most_common_domain')\n",
    "if resp.status_code != 200:\n",
    "    print(f\"Error {resp.status_code}\")\n",
    "else:\n",
    "    print(resp.text)"
   ]
  },
  {
   "cell_type": "markdown",
   "metadata": {},
   "source": [
    "## Obtain correlation between country and domain"
   ]
  },
  {
   "cell_type": "code",
   "execution_count": 8,
   "metadata": {},
   "outputs": [
    {
     "name": "stdout",
     "output_type": "stream",
     "text": [
      "\"The correlation between Country and Domain is 0.000\"\n"
     ]
    }
   ],
   "source": [
    "resp = requests.get('http://127.0.0.1:8000/get_country_domain_correlation')\n",
    "if resp.status_code != 200:\n",
    "    print(f\"Error {resp.status_code}\")\n",
    "else:\n",
    "    print(resp.text)"
   ]
  },
  {
   "cell_type": "markdown",
   "metadata": {},
   "source": [
    "## Obtain correlation between domain and gender"
   ]
  },
  {
   "cell_type": "code",
   "execution_count": 9,
   "metadata": {},
   "outputs": [
    {
     "name": "stdout",
     "output_type": "stream",
     "text": [
      "\"The correlation between Gender and Domain is 0.023\"\n"
     ]
    }
   ],
   "source": [
    "resp = requests.get('http://127.0.0.1:8000/get_gender_domain_correlation')\n",
    "if resp.status_code != 200:\n",
    "    print(f\"Error {resp.status_code}\")\n",
    "else:\n",
    "    print(resp.text)"
   ]
  },
  {
   "cell_type": "markdown",
   "metadata": {},
   "source": [
    "## Obtain email patters"
   ]
  },
  {
   "cell_type": "code",
   "execution_count": 10,
   "metadata": {},
   "outputs": [
    {
     "name": "stdout",
     "output_type": "stream",
     "text": [
      "\"The most common email pattern is: ['flast@domain'].\"\n"
     ]
    }
   ],
   "source": [
    "resp = requests.get('http://127.0.0.1:8000/get_common_email_patterns')\n",
    "if resp.status_code != 200:\n",
    "    print(f\"Error {resp.status_code}\")\n",
    "else:\n",
    "    print(resp.text)"
   ]
  },
  {
   "cell_type": "markdown",
   "metadata": {},
   "source": [
    "## Other analysis: Gender-Country correlation"
   ]
  },
  {
   "cell_type": "code",
   "execution_count": 11,
   "metadata": {},
   "outputs": [
    {
     "name": "stdout",
     "output_type": "stream",
     "text": [
      "\"The correlation between Gender and Country is 0.130\"\n"
     ]
    }
   ],
   "source": [
    "resp = requests.get('http://127.0.0.1:8000/get_gender_country_correlation')\n",
    "if resp.status_code != 200:\n",
    "    print(f\"Error {resp.status_code}\")\n",
    "else:\n",
    "    print(resp.text)"
   ]
  },
  {
   "cell_type": "markdown",
   "metadata": {},
   "source": [
    "## Other analysis: Gender distribution over countries"
   ]
  },
  {
   "cell_type": "code",
   "execution_count": 12,
   "metadata": {},
   "outputs": [
    {
     "data": {
      "text/html": [
       "<div>\n",
       "<style scoped>\n",
       "    .dataframe tbody tr th:only-of-type {\n",
       "        vertical-align: middle;\n",
       "    }\n",
       "\n",
       "    .dataframe tbody tr th {\n",
       "        vertical-align: top;\n",
       "    }\n",
       "\n",
       "    .dataframe thead th {\n",
       "        text-align: right;\n",
       "    }\n",
       "</style>\n",
       "<table border=\"1\" class=\"dataframe\">\n",
       "  <thead>\n",
       "    <tr style=\"text-align: right;\">\n",
       "      <th></th>\n",
       "      <th>Country</th>\n",
       "      <th>Gender</th>\n",
       "      <th>Count</th>\n",
       "      <th>Distribution (%)</th>\n",
       "    </tr>\n",
       "  </thead>\n",
       "  <tbody>\n",
       "    <tr>\n",
       "      <th>288</th>\n",
       "      <td>AD</td>\n",
       "      <td>Male</td>\n",
       "      <td>1</td>\n",
       "      <td>100.000000</td>\n",
       "    </tr>\n",
       "    <tr>\n",
       "      <th>355</th>\n",
       "      <td>AE</td>\n",
       "      <td>Bigender</td>\n",
       "      <td>1</td>\n",
       "      <td>100.000000</td>\n",
       "    </tr>\n",
       "    <tr>\n",
       "      <th>226</th>\n",
       "      <td>AF</td>\n",
       "      <td>Female</td>\n",
       "      <td>2</td>\n",
       "      <td>33.333333</td>\n",
       "    </tr>\n",
       "    <tr>\n",
       "      <th>67</th>\n",
       "      <td>AF</td>\n",
       "      <td>Male</td>\n",
       "      <td>4</td>\n",
       "      <td>66.666667</td>\n",
       "    </tr>\n",
       "    <tr>\n",
       "      <th>66</th>\n",
       "      <td>AL</td>\n",
       "      <td>Bigender</td>\n",
       "      <td>1</td>\n",
       "      <td>9.090909</td>\n",
       "    </tr>\n",
       "    <tr>\n",
       "      <th>...</th>\n",
       "      <td>...</td>\n",
       "      <td>...</td>\n",
       "      <td>...</td>\n",
       "      <td>...</td>\n",
       "    </tr>\n",
       "    <tr>\n",
       "      <th>7</th>\n",
       "      <td>ZA</td>\n",
       "      <td>Male</td>\n",
       "      <td>4</td>\n",
       "      <td>44.444444</td>\n",
       "    </tr>\n",
       "    <tr>\n",
       "      <th>255</th>\n",
       "      <td>ZA</td>\n",
       "      <td>Polygender</td>\n",
       "      <td>2</td>\n",
       "      <td>22.222222</td>\n",
       "    </tr>\n",
       "    <tr>\n",
       "      <th>106</th>\n",
       "      <td>ZA</td>\n",
       "      <td>Female</td>\n",
       "      <td>2</td>\n",
       "      <td>22.222222</td>\n",
       "    </tr>\n",
       "    <tr>\n",
       "      <th>322</th>\n",
       "      <td>ZM</td>\n",
       "      <td>Male</td>\n",
       "      <td>2</td>\n",
       "      <td>66.666667</td>\n",
       "    </tr>\n",
       "    <tr>\n",
       "      <th>327</th>\n",
       "      <td>ZM</td>\n",
       "      <td>Female</td>\n",
       "      <td>1</td>\n",
       "      <td>33.333333</td>\n",
       "    </tr>\n",
       "  </tbody>\n",
       "</table>\n",
       "<p>370 rows × 4 columns</p>\n",
       "</div>"
      ],
      "text/plain": [
       "    Country      Gender  Count  Distribution (%)\n",
       "288      AD        Male      1        100.000000\n",
       "355      AE    Bigender      1        100.000000\n",
       "226      AF      Female      2         33.333333\n",
       "67       AF        Male      4         66.666667\n",
       "66       AL    Bigender      1          9.090909\n",
       "..      ...         ...    ...               ...\n",
       "7        ZA        Male      4         44.444444\n",
       "255      ZA  Polygender      2         22.222222\n",
       "106      ZA      Female      2         22.222222\n",
       "322      ZM        Male      2         66.666667\n",
       "327      ZM      Female      1         33.333333\n",
       "\n",
       "[370 rows x 4 columns]"
      ]
     },
     "metadata": {},
     "output_type": "display_data"
    }
   ],
   "source": [
    "resp = requests.get('http://127.0.0.1:8000/get_gender_distribution_by_country')\n",
    "if resp.status_code != 200:\n",
    "    print(f\"Error {resp.status_code}\")\n",
    "else:\n",
    "    try:\n",
    "        display(pd.read_json(resp.text))\n",
    "    except Exception as e:\n",
    "        print(resp.text)"
   ]
  },
  {
   "cell_type": "code",
   "execution_count": null,
   "metadata": {},
   "outputs": [],
   "source": []
  }
 ],
 "metadata": {
  "kernelspec": {
   "display_name": "Python 3 (ipykernel)",
   "language": "python",
   "name": "python3"
  },
  "language_info": {
   "codemirror_mode": {
    "name": "ipython",
    "version": 3
   },
   "file_extension": ".py",
   "mimetype": "text/x-python",
   "name": "python",
   "nbconvert_exporter": "python",
   "pygments_lexer": "ipython3",
   "version": "3.10.9"
  },
  "vscode": {
   "interpreter": {
    "hash": "6d08b1bfbcab9b9e3f0b863d94460a9614ef48dd720b862a76d7e0315974dcc8"
   }
  }
 },
 "nbformat": 4,
 "nbformat_minor": 4
}
